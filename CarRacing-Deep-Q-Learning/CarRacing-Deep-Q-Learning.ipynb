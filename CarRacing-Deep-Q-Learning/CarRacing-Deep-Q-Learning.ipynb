{
 "cells": [
  {
   "cell_type": "code",
   "execution_count": 1,
   "metadata": {
    "collapsed": true,
    "pycharm": {
     "name": "#%%\n"
    }
   },
   "outputs": [],
   "source": [
    "# !pip install gym['Box2D']==0.21.0"
   ]
  },
  {
   "cell_type": "code",
   "execution_count": 2,
   "outputs": [
    {
     "name": "stderr",
     "output_type": "stream",
     "text": [
      "/home/vlad/ITMORL/ITMO-RL-env/lib/python3.8/site-packages/torchvision/io/image.py:13: UserWarning: Failed to load image Python extension: libtorch_cuda_cu.so: cannot open shared object file: No such file or directory\n",
      "  warn(f\"Failed to load image Python extension: {e}\")\n"
     ]
    }
   ],
   "source": [
    "import os\n",
    "from collections import OrderedDict, deque, namedtuple\n",
    "from typing import Iterator, List, Tuple\n",
    "\n",
    "import gym\n",
    "import gnwrapper\n",
    "import numpy as np\n",
    "import matplotlib.pyplot as plt\n",
    "import seaborn as sn\n",
    "import torch\n",
    "from pytorch_lightning import LightningModule, Trainer, seed_everything\n",
    "from torch import Tensor, nn\n",
    "from torch.optim import Adam, Optimizer\n",
    "from torch.utils.data import DataLoader\n",
    "from torch.utils.data.dataset import IterableDataset\n",
    "from torchinfo import summary"
   ],
   "metadata": {
    "collapsed": false,
    "pycharm": {
     "name": "#%%\n"
    }
   }
  },
  {
   "cell_type": "code",
   "execution_count": 3,
   "outputs": [],
   "source": [
    "def rgb2gray(rgb, norm=True):\n",
    "    # gray = np.dot(rgb[..., :], [0.299, 0.587, 0.114])\n",
    "    gray = np.dot(rgb[..., :], [0.2, 0.6, 0.2])\n",
    "    if norm:\n",
    "        # normalize\n",
    "        gray = gray / 255\n",
    "\n",
    "    gray = cropRectangle(gray)\n",
    "    return np.expand_dims(gray, axis=0)\n",
    "\n",
    "def cropRectangle(image):\n",
    "    rows, columns = 11, 12\n",
    "    blackframe = np.zeros((rows, columns))\n",
    "    image[84:95, 0:12] = blackframe\n",
    "    return image\n",
    "\n",
    "# WRAPPER Observation transform\n",
    "class TransformaObservacions(gym.ObservationWrapper):\n",
    "    def __init__(self, env):\n",
    "        super().__init__(env)\n",
    "    def observation(self, observ):\n",
    "        return rgb2gray(observ)\n",
    "\n",
    "# WRAPPER Interpretation Actions\n",
    "class InterpretationActions(gym.ActionWrapper):\n",
    "    def __init__(self, env, dictionary_actions):\n",
    "        super().__init__(env)\n",
    "        self.dictActions = dictionary_actions\n",
    "\n",
    "    def action(self, action):\n",
    "        return self.dictActions[action]\n",
    "\n",
    "# [-1:1 - stearing, 0:1 - gas, 0:1 - brake]\n",
    "# actions = np.array([[0.0,0.0,0.0],\n",
    "#                     [0.0,0.2,0.0],\n",
    "#                     [0.5,0.1,0.0],\n",
    "#                     [-0.5,0.1,0.0],\n",
    "#                     [1.0,0.0,0.05],\n",
    "#                     [-1.0,0.0,0.05],\n",
    "#                     [0.0,0.0,0.5],\n",
    "#                     ])\n",
    "\n",
    "actions = np.array([[1.0,0.0,0.2],\n",
    "                    [1.0,0.05,0.0],\n",
    "\n",
    "                    [0.5,0.0,0.1],\n",
    "                    [0.5,0.1,0.0],\n",
    "\n",
    "                    [0.0,0.0,0.4],\n",
    "                    [0.0,0.2,0.0],\n",
    "\n",
    "                    [-0.5,0.1,0.0],\n",
    "                    [-0.5,0.0,0.1],\n",
    "\n",
    "                    [-1.0,0.05,0.0],\n",
    "                    [-1.0,0.0,0.2],\n",
    "                    ])\n",
    "\n",
    "dictActions = dict(zip(range(len(actions)),actions))\n",
    "\n",
    "def createCustomEnv(envstr: str, dictionary_actions):\n",
    "    env = gym.make(envstr)\n",
    "    # env = AutoResetWrapper(env)\n",
    "    env.action_space = gym.spaces.discrete.Discrete(len(dictionary_actions))\n",
    "    env.observation_space = gym.spaces.Box(0.0, 1.0, (1,96,96))\n",
    "\n",
    "    env = InterpretationActions(env, dictionary_actions)\n",
    "    env = TransformaObservacions(env)\n",
    "\n",
    "    return env"
   ],
   "metadata": {
    "collapsed": false,
    "pycharm": {
     "name": "#%%\n"
    }
   }
  },
  {
   "cell_type": "code",
   "execution_count": 4,
   "outputs": [],
   "source": [
    "class DQN(nn.Module):\n",
    "    \"\"\"Simple CNN network.\"\"\"\n",
    "\n",
    "    def __init__(self, observation_space: gym.spaces.Box, n_actions: int = 5):\n",
    "        \"\"\"\n",
    "        Args:\n",
    "            obs_size: observation/state size of the environment\n",
    "            n_actions: number of discrete actions available in the environment\n",
    "        \"\"\"\n",
    "        super().__init__()\n",
    "\n",
    "        obs_size = observation_space.shape[0]\n",
    "        self.conv = nn.Sequential(\n",
    "            nn.Conv2d(obs_size, 8, kernel_size=7, stride=4),\n",
    "            nn.ReLU(),\n",
    "            nn.Conv2d(8, 16, kernel_size=5, stride=1),\n",
    "            nn.ReLU(),\n",
    "            nn.Conv2d(16, 24, kernel_size=5, stride=1),\n",
    "            nn.ReLU(),\n",
    "            nn.Flatten()\n",
    "        )\n",
    "\n",
    "        with torch.no_grad():\n",
    "            n_flatten = self.conv(\n",
    "                torch.as_tensor(observation_space.sample()[None]).float()\n",
    "            ).shape[1]\n",
    "\n",
    "\n",
    "        self.net = nn.Sequential(\n",
    "            nn.Linear(n_flatten, 1024),\n",
    "            nn.ReLU(),\n",
    "            nn.Dropout(0.125),\n",
    "            nn.Linear(1024, 512),\n",
    "            nn.ReLU(),\n",
    "            nn.Linear(512, 256),\n",
    "            nn.Dropout(0.125),\n",
    "            nn.ReLU(),\n",
    "            nn.Linear(256, n_actions),\n",
    "            nn.Softmax()\n",
    "        )\n",
    "\n",
    "        self.TotalNet = nn.Sequential(self.conv, self.net)\n",
    "        print(summary(self.TotalNet, input_size=(1, 1, 96, 96)))\n",
    "\n",
    "    def forward(self, x):\n",
    "        return self.net(self.conv(x.float()))\n"
   ],
   "metadata": {
    "collapsed": false,
    "pycharm": {
     "name": "#%%\n"
    }
   }
  },
  {
   "cell_type": "code",
   "execution_count": 5,
   "outputs": [],
   "source": [
    "# Named tuple for storing experience steps gathered in training\n",
    "Experience = namedtuple(\n",
    "    \"Experience\",\n",
    "    field_names=[\"state\", \"action\", \"reward\", \"done\", \"new_state\"],\n",
    ")"
   ],
   "metadata": {
    "collapsed": false,
    "pycharm": {
     "name": "#%%\n"
    }
   }
  },
  {
   "cell_type": "code",
   "execution_count": 6,
   "outputs": [],
   "source": [
    "class ReplayBuffer:\n",
    "    \"\"\"Replay Buffer for storing past experiences allowing the agent to learn from them.\n",
    "\n",
    "    Args:\n",
    "        capacity: size of the buffer\n",
    "    \"\"\"\n",
    "\n",
    "    def __init__(self, capacity: int) -> None:\n",
    "        self.buffer = deque(maxlen=capacity)\n",
    "\n",
    "    def __len__(self) -> None:\n",
    "        return len(self.buffer)\n",
    "\n",
    "    def append(self, experience: Experience) -> None:\n",
    "        \"\"\"Add experience to the buffer.\n",
    "\n",
    "        Args:\n",
    "            experience: tuple (state, action, reward, done, new_state)\n",
    "        \"\"\"\n",
    "        self.buffer.append(experience)\n",
    "\n",
    "    def sample(self, batch_size: int) -> Tuple:\n",
    "        indices = np.random.choice(len(self.buffer), batch_size, replace=False)\n",
    "        states, actions, rewards, dones, next_states = zip(*(self.buffer[idx] for idx in indices))\n",
    "\n",
    "        return (\n",
    "            np.array(states),\n",
    "            np.array(actions),\n",
    "            np.array(rewards, dtype=np.float32),\n",
    "            np.array(dones, dtype=bool),\n",
    "            np.array(next_states),\n",
    "        )"
   ],
   "metadata": {
    "collapsed": false,
    "pycharm": {
     "name": "#%%\n"
    }
   }
  },
  {
   "cell_type": "code",
   "execution_count": 7,
   "outputs": [],
   "source": [
    "class RLDataset(IterableDataset):\n",
    "    \"\"\"Iterable Dataset containing the ExperienceBuffer which will be updated with new experiences during training.\n",
    "\n",
    "    Args:\n",
    "        buffer: replay buffer\n",
    "        sample_size: number of experiences to sample at a time\n",
    "    \"\"\"\n",
    "\n",
    "    def __init__(self, buffer: ReplayBuffer, sample_size: int = 200) -> None:\n",
    "        self.buffer = buffer\n",
    "        self.sample_size = sample_size\n",
    "\n",
    "    def __iter__(self) -> Iterator[Tuple]:\n",
    "        states, actions, rewards, dones, new_states = self.buffer.sample(self.sample_size)\n",
    "        for i in range(len(dones)):\n",
    "            yield states[i], actions[i], rewards[i], dones[i], new_states[i]"
   ],
   "metadata": {
    "collapsed": false,
    "pycharm": {
     "name": "#%%\n"
    }
   }
  },
  {
   "cell_type": "code",
   "execution_count": 8,
   "outputs": [],
   "source": [
    "class Agent:\n",
    "    \"\"\"Base Agent class handeling the interaction with the environment.\"\"\"\n",
    "\n",
    "    def __init__(self, env: gym.Env, replay_buffer: ReplayBuffer) -> None:\n",
    "        \"\"\"\n",
    "        Args:\n",
    "            env: training environment\n",
    "            replay_buffer: replay buffer storing experiences\n",
    "        \"\"\"\n",
    "        self.env = env\n",
    "        self.replay_buffer = replay_buffer\n",
    "        self.reset()\n",
    "        self.state = self.env.reset()\n",
    "\n",
    "    def reset(self) -> None:\n",
    "        \"\"\"Resents the environment and updates the state.\"\"\"\n",
    "        self.state = self.env.reset()\n",
    "\n",
    "    def get_action(self, net: nn.Module, epsilon: float, device: str) -> int:\n",
    "        \"\"\"Using the given network, decide what action to carry out using an epsilon-greedy policy.\n",
    "\n",
    "        Args:\n",
    "            net: DQN network\n",
    "            epsilon: value to determine likelihood of taking a random action\n",
    "            device: current device\n",
    "\n",
    "        Returns:\n",
    "            action\n",
    "        \"\"\"\n",
    "        if np.random.random() < epsilon:\n",
    "            action = self.env.action_space.sample()\n",
    "        else:\n",
    "            state = torch.tensor([self.state])\n",
    "\n",
    "            if device not in [\"cpu\"]:\n",
    "                state = state.cuda(device)\n",
    "\n",
    "            q_values = net(state)\n",
    "            _, action = torch.max(q_values, dim=1)\n",
    "            action = int(action.item())\n",
    "\n",
    "        return action\n",
    "\n",
    "    @torch.no_grad()\n",
    "    def play_step(\n",
    "        self,\n",
    "        net: nn.Module,\n",
    "        epsilon: float = 0.0,\n",
    "        device: str = \"cpu\",\n",
    "    ) -> Tuple[float, bool]:\n",
    "        \"\"\"Carries out a single interaction step between the agent and the environment.\n",
    "\n",
    "        Args:\n",
    "            net: DQN network\n",
    "            epsilon: value to determine likelihood of taking a random action\n",
    "            device: current device\n",
    "\n",
    "        Returns:\n",
    "            reward, done\n",
    "        \"\"\"\n",
    "\n",
    "        action = self.get_action(net, epsilon, device)\n",
    "\n",
    "        # do step in the environment\n",
    "        new_state, reward, done, _ = self.env.step(action)\n",
    "\n",
    "        exp = Experience(self.state, action, reward, done, new_state)\n",
    "\n",
    "        self.replay_buffer.append(exp)\n",
    "\n",
    "        self.state = new_state\n",
    "        if done:\n",
    "            self.reset()\n",
    "        return reward, done\n",
    "\n",
    "    @torch.no_grad()\n",
    "    def play_render(\n",
    "            self,\n",
    "            net: nn.Module,\n",
    "            epsilon: float = 0.0,\n",
    "            device: str = \"cpu\",\n",
    "        ) -> None:\n",
    "        net.eval()\n",
    "        while True:\n",
    "            action = self.get_action(net, epsilon, device)\n",
    "            self.env.render()\n",
    "\n",
    "            new_state, reward, done, _ = self.env.step(action)\n",
    "            self.state = new_state\n",
    "            if done:\n",
    "                self.reset()\n",
    "                break\n",
    "\n"
   ],
   "metadata": {
    "collapsed": false,
    "pycharm": {
     "name": "#%%\n"
    }
   }
  },
  {
   "cell_type": "code",
   "execution_count": 9,
   "outputs": [],
   "source": [
    "class DQNLightning(LightningModule):\n",
    "    \"\"\"Basic DQN Model.\"\"\"\n",
    "\n",
    "    def __init__(\n",
    "        self,\n",
    "        batch_size: int = 16,\n",
    "        lr: float = 1e-2,\n",
    "        env: str = \"CarRacing-v0\",\n",
    "        gamma: float = 0.99,\n",
    "        sync_rate: int = 10,\n",
    "        replay_size: int = 1000,\n",
    "        warm_start_size: int = 1000,\n",
    "        eps_last_frame: int = 1000,\n",
    "        eps_start: float = 1.0,\n",
    "        eps_end: float = 0.01,\n",
    "        episode_length: int = 200,\n",
    "        warm_start_steps: int = 1000,\n",
    "    ) -> None:\n",
    "        \"\"\"\n",
    "        Args:\n",
    "            batch_size: size of the batches\")\n",
    "            lr: learning rate\n",
    "            env: gym environment tag\n",
    "            gamma: discount factor\n",
    "            sync_rate: how many frames do we update the target network\n",
    "            replay_size: capacity of the replay buffer\n",
    "            warm_start_size: how many samples do we use to fill our buffer at the start of training\n",
    "            eps_last_frame: what frame should epsilon stop decaying\n",
    "            eps_start: starting value of epsilon\n",
    "            eps_end: final value of epsilon\n",
    "            episode_length: max length of an episode\n",
    "            warm_start_steps: max episode reward in the environment\n",
    "        \"\"\"\n",
    "        super().__init__()\n",
    "        self.save_hyperparameters()\n",
    "\n",
    "        # self.env = gym.make(self.hparams.env)\n",
    "        self.env = createCustomEnv(self.hparams.env, dictActions)\n",
    "\n",
    "        n_actions = len(dictActions)\n",
    "\n",
    "        self.net = DQN(self.env.observation_space, n_actions)\n",
    "        self.target_net = DQN(self.env.observation_space, n_actions)\n",
    "\n",
    "        self.buffer = ReplayBuffer(self.hparams.replay_size)\n",
    "        self.agent = Agent(self.env, self.buffer)\n",
    "        self.total_reward = 0\n",
    "        self.episode_reward = 0\n",
    "        self.populate(self.hparams.warm_start_steps)\n",
    "\n",
    "    def populate(self, steps: int = 1000) -> None:\n",
    "        \"\"\"Carries out several random steps through the environment to initially fill up the replay buffer with\n",
    "        experiences.\n",
    "\n",
    "        Args:\n",
    "            steps: number of random steps to populate the buffer with\n",
    "        \"\"\"\n",
    "        for _ in range(steps):\n",
    "            self.agent.play_step(self.net, epsilon=1.0)\n",
    "\n",
    "    def forward(self, x: Tensor) -> Tensor:\n",
    "        \"\"\"Passes in a state x through the network and gets the q_values of each action as an output.\n",
    "\n",
    "        Args:\n",
    "            x: environment state\n",
    "\n",
    "        Returns:\n",
    "            q values\n",
    "        \"\"\"\n",
    "        output = self.net(x)\n",
    "        return output\n",
    "\n",
    "    def dqn_mse_loss(self, batch: Tuple[Tensor, Tensor]) -> Tensor:\n",
    "        \"\"\"Calculates the mse loss using a mini batch from the replay buffer.\n",
    "\n",
    "        Args:\n",
    "            batch: current mini batch of replay data\n",
    "\n",
    "        Returns:\n",
    "            loss\n",
    "        \"\"\"\n",
    "        states, actions, rewards, dones, next_states = batch\n",
    "\n",
    "        actions = actions.long().squeeze(-1)\n",
    "        state_action_values = self.net(states).gather(1, actions.unsqueeze(-1)).squeeze(-1)\n",
    "\n",
    "        with torch.no_grad():\n",
    "            next_state_values = self.target_net(next_states).max(1)[0]\n",
    "            next_state_values[dones] = 0.0\n",
    "            next_state_values = next_state_values.detach()\n",
    "\n",
    "        expected_state_action_values = next_state_values * self.hparams.gamma + rewards\n",
    "\n",
    "        return nn.MSELoss()(state_action_values, expected_state_action_values)\n",
    "\n",
    "    def get_epsilon(self, start: int, end: int, frames: int) -> float:\n",
    "        if self.global_step > frames:\n",
    "            return end\n",
    "        return start - (self.global_step / frames) * (start - end)\n",
    "\n",
    "    def training_step(self, batch: Tuple[Tensor, Tensor], nb_batch) -> OrderedDict:\n",
    "        \"\"\"Carries out a single step through the environment to update the replay buffer. Then calculates loss\n",
    "        based on the minibatch recieved.\n",
    "\n",
    "        Args:\n",
    "            batch: current mini batch of replay data\n",
    "            nb_batch: batch number\n",
    "\n",
    "        Returns:\n",
    "            Training loss and log metrics\n",
    "        \"\"\"\n",
    "        device = self.get_device(batch)\n",
    "        epsilon = self.get_epsilon(self.hparams.eps_start, self.hparams.eps_end, self.hparams.eps_last_frame)\n",
    "        self.log(\"epsilon\", epsilon)\n",
    "\n",
    "        # step through environment with agent\n",
    "        reward, done = self.agent.play_step(self.net, epsilon, device)\n",
    "        self.episode_reward += reward\n",
    "        self.log(\"episode reward\", self.episode_reward)\n",
    "\n",
    "        # calculates training loss\n",
    "        loss = self.dqn_mse_loss(batch)\n",
    "\n",
    "        if done:\n",
    "            self.total_reward = self.episode_reward\n",
    "            self.episode_reward = 0\n",
    "\n",
    "        # Soft update of target network\n",
    "        if self.global_step % self.hparams.sync_rate == 0:\n",
    "            self.target_net.load_state_dict(self.net.state_dict())\n",
    "\n",
    "        self.log_dict(\n",
    "            {\n",
    "                \"reward\": reward,\n",
    "                \"train_loss\": loss,\n",
    "            }\n",
    "        )\n",
    "        self.log(\"total_reward\", self.total_reward, prog_bar=True)\n",
    "        self.log(\"steps\", self.global_step, logger=False, prog_bar=True)\n",
    "\n",
    "        return loss\n",
    "\n",
    "    def configure_optimizers(self) -> List[Optimizer]:\n",
    "        \"\"\"Initialize Adam optimizer.\"\"\"\n",
    "        optimizer = Adam(self.net.parameters(), lr=self.hparams.lr)\n",
    "        return optimizer\n",
    "\n",
    "    def __dataloader(self) -> DataLoader:\n",
    "        \"\"\"Initialize the Replay Buffer dataset used for retrieving experiences.\"\"\"\n",
    "        dataset = RLDataset(self.buffer, self.hparams.episode_length)\n",
    "        dataloader = DataLoader(\n",
    "            num_workers=10,\n",
    "            dataset=dataset,\n",
    "            batch_size=self.hparams.batch_size,\n",
    "        )\n",
    "        return dataloader\n",
    "\n",
    "    def train_dataloader(self) -> DataLoader:\n",
    "        \"\"\"Get train loader.\"\"\"\n",
    "        return self.__dataloader()\n",
    "\n",
    "    def get_device(self, batch) -> str:\n",
    "        \"\"\"Retrieve device currently being used by minibatch.\"\"\"\n",
    "        return batch[0].device.index if self.on_gpu else \"cpu\""
   ],
   "metadata": {
    "collapsed": false,
    "pycharm": {
     "name": "#%%\n"
    }
   }
  },
  {
   "cell_type": "code",
   "execution_count": 10,
   "outputs": [
    {
     "name": "stderr",
     "output_type": "stream",
     "text": [
      "Global seed set to 0\n",
      "/home/vlad/ITMORL/ITMO-RL-env/lib/python3.8/site-packages/torch/nn/modules/container.py:139: UserWarning: Implicit dimension choice for softmax has been deprecated. Change the call to include dim=X as an argument.\n",
      "  input = module(input)\n"
     ]
    },
    {
     "name": "stdout",
     "output_type": "stream",
     "text": [
      "==========================================================================================\n",
      "Layer (type:depth-idx)                   Output Shape              Param #\n",
      "==========================================================================================\n",
      "Sequential                               [1, 10]                   --\n",
      "├─Sequential: 1-1                        [1, 5400]                 --\n",
      "│    └─Conv2d: 2-1                       [1, 8, 23, 23]            400\n",
      "│    └─ReLU: 2-2                         [1, 8, 23, 23]            --\n",
      "│    └─Conv2d: 2-3                       [1, 16, 19, 19]           3,216\n",
      "│    └─ReLU: 2-4                         [1, 16, 19, 19]           --\n",
      "│    └─Conv2d: 2-5                       [1, 24, 15, 15]           9,624\n",
      "│    └─ReLU: 2-6                         [1, 24, 15, 15]           --\n",
      "│    └─Flatten: 2-7                      [1, 5400]                 --\n",
      "├─Sequential: 1-2                        [1, 10]                   --\n",
      "│    └─Linear: 2-8                       [1, 1024]                 5,530,624\n",
      "│    └─ReLU: 2-9                         [1, 1024]                 --\n",
      "│    └─Dropout: 2-10                     [1, 1024]                 --\n",
      "│    └─Linear: 2-11                      [1, 512]                  524,800\n",
      "│    └─ReLU: 2-12                        [1, 512]                  --\n",
      "│    └─Linear: 2-13                      [1, 256]                  131,328\n",
      "│    └─Dropout: 2-14                     [1, 256]                  --\n",
      "│    └─ReLU: 2-15                        [1, 256]                  --\n",
      "│    └─Linear: 2-16                      [1, 10]                   2,570\n",
      "│    └─Softmax: 2-17                     [1, 10]                   --\n",
      "==========================================================================================\n",
      "Total params: 6,202,562\n",
      "Trainable params: 6,202,562\n",
      "Non-trainable params: 0\n",
      "Total mult-adds (M): 9.73\n",
      "==========================================================================================\n",
      "Input size (MB): 0.04\n",
      "Forward/backward pass size (MB): 0.14\n",
      "Params size (MB): 24.81\n",
      "Estimated Total Size (MB): 24.98\n",
      "==========================================================================================\n",
      "==========================================================================================\n",
      "Layer (type:depth-idx)                   Output Shape              Param #\n",
      "==========================================================================================\n",
      "Sequential                               [1, 10]                   --\n",
      "├─Sequential: 1-1                        [1, 5400]                 --\n",
      "│    └─Conv2d: 2-1                       [1, 8, 23, 23]            400\n",
      "│    └─ReLU: 2-2                         [1, 8, 23, 23]            --\n",
      "│    └─Conv2d: 2-3                       [1, 16, 19, 19]           3,216\n",
      "│    └─ReLU: 2-4                         [1, 16, 19, 19]           --\n",
      "│    └─Conv2d: 2-5                       [1, 24, 15, 15]           9,624\n",
      "│    └─ReLU: 2-6                         [1, 24, 15, 15]           --\n",
      "│    └─Flatten: 2-7                      [1, 5400]                 --\n",
      "├─Sequential: 1-2                        [1, 10]                   --\n",
      "│    └─Linear: 2-8                       [1, 1024]                 5,530,624\n",
      "│    └─ReLU: 2-9                         [1, 1024]                 --\n",
      "│    └─Dropout: 2-10                     [1, 1024]                 --\n",
      "│    └─Linear: 2-11                      [1, 512]                  524,800\n",
      "│    └─ReLU: 2-12                        [1, 512]                  --\n",
      "│    └─Linear: 2-13                      [1, 256]                  131,328\n",
      "│    └─Dropout: 2-14                     [1, 256]                  --\n",
      "│    └─ReLU: 2-15                        [1, 256]                  --\n",
      "│    └─Linear: 2-16                      [1, 10]                   2,570\n",
      "│    └─Softmax: 2-17                     [1, 10]                   --\n",
      "==========================================================================================\n",
      "Total params: 6,202,562\n",
      "Trainable params: 6,202,562\n",
      "Non-trainable params: 0\n",
      "Total mult-adds (M): 9.73\n",
      "==========================================================================================\n",
      "Input size (MB): 0.04\n",
      "Forward/backward pass size (MB): 0.14\n",
      "Params size (MB): 24.81\n",
      "Estimated Total Size (MB): 24.98\n",
      "==========================================================================================\n",
      "Track generation: 1084..1359 -> 275-tiles track\n",
      "Track generation: 1092..1369 -> 277-tiles track\n",
      "Track generation: 1123..1410 -> 287-tiles track\n"
     ]
    },
    {
     "name": "stderr",
     "output_type": "stream",
     "text": [
      "GPU available: True (cuda), used: True\n",
      "TPU available: False, using: 0 TPU cores\n",
      "IPU available: False, using: 0 IPUs\n",
      "HPU available: False, using: 0 HPUs\n",
      "LOCAL_RANK: 0 - CUDA_VISIBLE_DEVICES: [0]\n",
      "\n",
      "  | Name       | Type | Params\n",
      "------------------------------------\n",
      "0 | net        | DQN  | 6.2 M \n",
      "1 | target_net | DQN  | 6.2 M \n",
      "------------------------------------\n",
      "12.4 M    Trainable params\n",
      "0         Non-trainable params\n",
      "12.4 M    Total params\n",
      "49.620    Total estimated model params size (MB)\n"
     ]
    },
    {
     "data": {
      "text/plain": "Training: 0it [00:00, ?it/s]",
      "application/vnd.jupyter.widget-view+json": {
       "version_major": 2,
       "version_minor": 0,
       "model_id": "c90bc96f8ed04a09b36d06a709cf3030"
      }
     },
     "metadata": {},
     "output_type": "display_data"
    },
    {
     "name": "stderr",
     "output_type": "stream",
     "text": [
      "/home/vlad/ITMORL/ITMO-RL-env/lib/python3.8/site-packages/pytorch_lightning/trainer/connectors/logger_connector/result.py:232: UserWarning: You called `self.log('total_reward', ...)` in your `training_step` but the value needs to be floating point. Converting it to torch.float32.\n",
      "  warning_cache.warn(\n",
      "/home/vlad/ITMORL/ITMO-RL-env/lib/python3.8/site-packages/pytorch_lightning/trainer/connectors/logger_connector/result.py:232: UserWarning: You called `self.log('steps', ...)` in your `training_step` but the value needs to be floating point. Converting it to torch.float32.\n",
      "  warning_cache.warn(\n",
      "/tmp/ipykernel_80020/4011267787.py:33: UserWarning: Creating a tensor from a list of numpy.ndarrays is extremely slow. Please consider converting the list to a single numpy.ndarray with numpy.array() before converting to a tensor. (Triggered internally at  ../torch/csrc/utils/tensor_new.cpp:204.)\n",
      "  state = torch.tensor([self.state])\n"
     ]
    },
    {
     "name": "stdout",
     "output_type": "stream",
     "text": [
      "Track generation: 1076..1349 -> 273-tiles track\n",
      "Track generation: 1039..1309 -> 270-tiles track\n",
      "Track generation: 1196..1499 -> 303-tiles track\n",
      "Track generation: 1168..1464 -> 296-tiles track\n",
      "Track generation: 1016..1274 -> 258-tiles track\n",
      "Track generation: 1180..1479 -> 299-tiles track\n",
      "Track generation: 1151..1443 -> 292-tiles track\n",
      "Track generation: 1281..1607 -> 326-tiles track\n",
      "retry to generate track (normal if there are not manyinstances of this message)\n",
      "Track generation: 1059..1331 -> 272-tiles track\n"
     ]
    },
    {
     "name": "stderr",
     "output_type": "stream",
     "text": [
      "`Trainer.fit` stopped: `max_epochs=100` reached.\n"
     ]
    }
   ],
   "source": [
    "from pytorch_lightning.loggers import CSVLogger\n",
    "\n",
    "seed_everything(0)\n",
    "# model = DQNLightning(\n",
    "#     batch_size=8,\n",
    "#     episode_length=128,\n",
    "#     warm_start_steps = 192,\n",
    "#     replay_size = 8192,\n",
    "#     eps_last_frame = 2000,\n",
    "#     lr = 0.001\n",
    "# )\n",
    "\n",
    "model = DQNLightning(\n",
    "    batch_size=128,\n",
    "    episode_length=1024,\n",
    "    warm_start_steps = 1024,\n",
    "    replay_size = 10000,\n",
    "    eps_last_frame = 5000,\n",
    "    lr = 0.0001\n",
    ")\n",
    "\n",
    "trainer = Trainer(\n",
    "    accelerator=\"auto\",\n",
    "    devices=1 if torch.cuda.is_available() else None,  # limiting got iPython runs\n",
    "    max_epochs=100,\n",
    "    # val_check_interval=50,\n",
    "    logger=CSVLogger(save_dir=\"\")\n",
    ")\n",
    "\n",
    "trainer.fit(model)"
   ],
   "metadata": {
    "collapsed": false,
    "pycharm": {
     "name": "#%%\n"
    }
   }
  },
  {
   "cell_type": "code",
   "execution_count": 11,
   "outputs": [
    {
     "data": {
      "text/plain": "<seaborn.axisgrid.FacetGrid at 0x7f813922c640>"
     },
     "execution_count": 11,
     "metadata": {},
     "output_type": "execute_result"
    },
    {
     "data": {
      "text/plain": "<Figure size 472.75x360 with 1 Axes>",
      "image/png": "[encoded data removed]"
     },
     "metadata": {
      "needs_background": "light"
     },
     "output_type": "display_data"
    }
   ],
   "source": [
    "import pandas as pd\n",
    "metrics = pd.read_csv(f\"{trainer.logger.log_dir}/metrics.csv\")\n",
    "del metrics[\"step\"]\n",
    "metrics.set_index(\"epoch\", inplace=True)\n",
    "# display(metrics.dropna(axis=1, how=\"all\").head())\n",
    "sn.relplot(data=metrics, kind=\"line\")\n"
   ],
   "metadata": {
    "collapsed": false,
    "pycharm": {
     "name": "#%%\n"
    }
   }
  },
  {
   "cell_type": "code",
   "execution_count": 12,
   "outputs": [
    {
     "data": {
      "text/plain": "<seaborn.axisgrid.FacetGrid at 0x7f81cf169a90>"
     },
     "execution_count": 12,
     "metadata": {},
     "output_type": "execute_result"
    },
    {
     "data": {
      "text/plain": "<Figure size 500x500 with 1 Axes>",
      "image/png": "[encoded data removed]"
     },
     "metadata": {},
     "output_type": "display_data"
    }
   ],
   "source": [
    "metrics = pd.read_csv(f\"{trainer.logger.log_dir}/metrics.csv\")\n",
    "del metrics[\"step\"]\n",
    "metrics.set_index(\"epoch\", inplace=True)\n",
    "# display(metrics.dropna(axis=1, how=\"all\").head())\n",
    "sn.relplot(data=metrics['train_loss'], kind=\"line\")"
   ],
   "metadata": {
    "collapsed": false,
    "pycharm": {
     "name": "#%%\n"
    }
   }
  },
  {
   "cell_type": "code",
   "execution_count": 13,
   "outputs": [
    {
     "name": "stdout",
     "output_type": "stream",
     "text": [
      "Track generation: 1173..1471 -> 298-tiles track\n"
     ]
    },
    {
     "name": "stderr",
     "output_type": "stream",
     "text": [
      "/home/vlad/ITMORL/ITMO-RL-env/lib/python3.8/site-packages/torch/nn/modules/container.py:139: UserWarning: Implicit dimension choice for softmax has been deprecated. Change the call to include dim=X as an argument.\n",
      "  input = module(input)\n"
     ]
    },
    {
     "name": "stdout",
     "output_type": "stream",
     "text": [
      "Track generation: 1103..1383 -> 280-tiles track\n",
      "Track generation: 1085..1360 -> 275-tiles track\n",
      "Track generation: 1090..1366 -> 276-tiles track\n",
      "Track generation: 1114..1397 -> 283-tiles track\n"
     ]
    }
   ],
   "source": [
    "model.agent.reset()\n",
    "for i in range(4):\n",
    "    model.agent.play_render(model.net)"
   ],
   "metadata": {
    "collapsed": false,
    "pycharm": {
     "name": "#%%\n"
    }
   }
  }
 ],
 "metadata": {
  "kernelspec": {
   "display_name": "Python 3",
   "language": "python",
   "name": "python3"
  },
  "language_info": {
   "codemirror_mode": {
    "name": "ipython",
    "version": 2
   },
   "file_extension": ".py",
   "mimetype": "text/x-python",
   "name": "python",
   "nbconvert_exporter": "python",
   "pygments_lexer": "ipython2",
   "version": "2.7.6"
  }
 },
 "nbformat": 4,
 "nbformat_minor": 0
}